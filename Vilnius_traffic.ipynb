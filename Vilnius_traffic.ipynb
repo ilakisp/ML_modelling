{
 "cells": [
  {
   "cell_type": "markdown",
   "metadata": {},
   "source": [
    "# Vilnius traffic"
   ]
  },
  {
   "cell_type": "code",
   "execution_count": null,
   "metadata": {},
   "outputs": [],
   "source": [
    "'''\n",
    "This simple analysis contains comparison of two public transport routes - WAY1 and WAY2 - going from home to office.\n",
    "I take these two routes and do the following:\n",
    "- List intersections, relevant for each route;\n",
    "- List hours that I would like to evaluate traffic on - between 7 and 10 o'clock;\n",
    "- Clean datasets for merging;\n",
    "- Remove weekend information from the dataset;\n",
    "- Aggregate data for each of the routes by hour. That is, I take the averages of the two measures vol_proc and spd_proc.\n",
    "- I use the results to plot a few histograms to see which hour for which route is best using each measure.\n",
    "'''"
   ]
  },
  {
   "cell_type": "code",
   "execution_count": 38,
   "metadata": {},
   "outputs": [],
   "source": [
    "import pandas as pd\n",
    "import numpy as np\n",
    "import matplotlib.pyplot as plt\n",
    "\n",
    "# Intersections passed with first option bus\n",
    "WAY_TO_WORK_1 = ['110', '111', '112', '113', '106', '107', '108', '109', '702']\n",
    "\n",
    "# Intersections passed with second option bus\n",
    "WAY_TO_WORK_2 = ['111', '112', '113', '106', '107', '108', '109', '104', '101', '203']\n",
    "\n",
    "GO_TO_WORK_HOURS = [7, 8, 9, 10]"
   ]
  },
  {
   "cell_type": "code",
   "execution_count": 39,
   "metadata": {},
   "outputs": [],
   "source": [
    "def import_datasets():\n",
    "    traffic = pd.read_csv('traffic_intensity.csv', sep=';')\n",
    "    intersections = pd.read_excel('sankryzu_koordinates.xlsx')\n",
    "    return traffic, intersections\n",
    "\n",
    "\n",
    "def clean_intersections_data():\n",
    "    data = import_datasets()[1]\n",
    "    data['intersection_code'] = data['Node'].str[1:5] # Extract intersection code (i.e. 1001) into separate column\n",
    "    data['intersection_code'] = data['intersection_code'].str.strip() # strip values to remove blank characters\n",
    "    print('Intersections data shape:', data.shape)\n",
    "    return data\n",
    "\n",
    "\n",
    "def clean_traffic_data():    \n",
    "    traffic = import_datasets()[0]\n",
    "    traffic['intersection_code'] = traffic['Name'].str[6:10]\n",
    "    traffic['intersection_code'] = traffic['intersection_code'].str.replace('_', '') # strip values to remove '_'characters \n",
    "    \n",
    "    traffic['Time'] = pd.to_datetime(traffic['Time']) # Convert time from string to datetime\n",
    "    traffic['weekday'] = traffic['Time'].dt.dayofweek\n",
    "    traffic = traffic.loc[traffic['weekday'] < 6] # Keep only datapoints for weekdays, drop weekends\n",
    "    \n",
    "    traffic['hour'] = traffic['Time'].dt.hour\n",
    "    traffic = traffic.loc[traffic['hour'].isin(GO_TO_WORK_HOURS)] # evaluating only hours between 7 and 10 in the morning\n",
    "    print('traffic data shape:', traffic.shape)\n",
    "    return traffic\n",
    "\n",
    "\n",
    "def merge_datasets():    \n",
    "    df1 = clean_intersections_data()\n",
    "    df2 = clean_traffic_data()\n",
    "    \n",
    "    merged_df = pd.merge(df1, df2, on='intersection_code', how='right')\n",
    "    print('NaN rows after merging:', len(merged_df[pd.isnull(merged_df['Name'])])) # number of NaN values after merging\n",
    "    print('merged data shape:', merged_df.shape)\n",
    "    return merged_df\n",
    "\n",
    "\n",
    "def keep_relevant_intersections():   \n",
    "    df_merged = merge_datasets()\n",
    "   \n",
    "    way_1 = df_merged.loc[df_merged['intersection_code'].isin(WAY_TO_WORK_1)]\n",
    "    way_1 = way_1.reset_index(drop=True)\n",
    "    \n",
    "    way_2 = df_merged.loc[df_merged['intersection_code'].isin(WAY_TO_WORK_2)]\n",
    "    way_2 = way_2.reset_index(drop=True)\n",
    "    return way_1, way_2\n",
    "\n",
    "def aggregate_results():\n",
    "    way_1, way_2 = keep_relevant_intersections()\n",
    "    way_1_results = way_1.groupby(['intersection_code', 'hour'])[['vol_proc', 'spd_proc']].mean()\n",
    "    way_2_results = way_2.groupby(['intersection_code', 'hour'])[['vol_proc', 'spd_proc']].mean()\n",
    "    return way_1_results, way_2_results"
   ]
  },
  {
   "cell_type": "code",
   "execution_count": 40,
   "metadata": {},
   "outputs": [
    {
     "name": "stdout",
     "output_type": "stream",
     "text": [
      "Intersections data shape: (245, 4)\n",
      "traffic data shape: (103004, 11)\n",
      "NaN rows after merging: 0\n",
      "merged data shape: (103004, 14)\n"
     ]
    }
   ],
   "source": [
    "way_1_results, way_2_results = aggregate_results()"
   ]
  },
  {
   "cell_type": "code",
   "execution_count": 41,
   "metadata": {},
   "outputs": [
    {
     "data": {
      "text/html": [
       "<div>\n",
       "<style scoped>\n",
       "    .dataframe tbody tr th:only-of-type {\n",
       "        vertical-align: middle;\n",
       "    }\n",
       "\n",
       "    .dataframe tbody tr th {\n",
       "        vertical-align: top;\n",
       "    }\n",
       "\n",
       "    .dataframe thead th {\n",
       "        text-align: right;\n",
       "    }\n",
       "</style>\n",
       "<table border=\"1\" class=\"dataframe\">\n",
       "  <thead>\n",
       "    <tr style=\"text-align: right;\">\n",
       "      <th></th>\n",
       "      <th>vol_proc</th>\n",
       "      <th>spd_proc</th>\n",
       "    </tr>\n",
       "    <tr>\n",
       "      <th>hour</th>\n",
       "      <th></th>\n",
       "      <th></th>\n",
       "    </tr>\n",
       "  </thead>\n",
       "  <tbody>\n",
       "    <tr>\n",
       "      <th>7</th>\n",
       "      <td>63.748050</td>\n",
       "      <td>28.228166</td>\n",
       "    </tr>\n",
       "    <tr>\n",
       "      <th>8</th>\n",
       "      <td>172.572889</td>\n",
       "      <td>25.181999</td>\n",
       "    </tr>\n",
       "    <tr>\n",
       "      <th>9</th>\n",
       "      <td>202.320929</td>\n",
       "      <td>23.987509</td>\n",
       "    </tr>\n",
       "    <tr>\n",
       "      <th>10</th>\n",
       "      <td>208.910839</td>\n",
       "      <td>23.844791</td>\n",
       "    </tr>\n",
       "  </tbody>\n",
       "</table>\n",
       "</div>"
      ],
      "text/plain": [
       "        vol_proc   spd_proc\n",
       "hour                       \n",
       "7      63.748050  28.228166\n",
       "8     172.572889  25.181999\n",
       "9     202.320929  23.987509\n",
       "10    208.910839  23.844791"
      ]
     },
     "execution_count": 41,
     "metadata": {},
     "output_type": "execute_result"
    }
   ],
   "source": [
    "way_1_results = way_1.groupby(['hour'])[['vol_proc', 'spd_proc']].mean()\n",
    "way_1_results"
   ]
  },
  {
   "cell_type": "code",
   "execution_count": 42,
   "metadata": {},
   "outputs": [
    {
     "data": {
      "text/html": [
       "<div>\n",
       "<style scoped>\n",
       "    .dataframe tbody tr th:only-of-type {\n",
       "        vertical-align: middle;\n",
       "    }\n",
       "\n",
       "    .dataframe tbody tr th {\n",
       "        vertical-align: top;\n",
       "    }\n",
       "\n",
       "    .dataframe thead th {\n",
       "        text-align: right;\n",
       "    }\n",
       "</style>\n",
       "<table border=\"1\" class=\"dataframe\">\n",
       "  <thead>\n",
       "    <tr style=\"text-align: right;\">\n",
       "      <th></th>\n",
       "      <th>vol_proc</th>\n",
       "      <th>spd_proc</th>\n",
       "    </tr>\n",
       "    <tr>\n",
       "      <th>hour</th>\n",
       "      <th></th>\n",
       "      <th></th>\n",
       "    </tr>\n",
       "  </thead>\n",
       "  <tbody>\n",
       "    <tr>\n",
       "      <th>7</th>\n",
       "      <td>73.417534</td>\n",
       "      <td>28.143963</td>\n",
       "    </tr>\n",
       "    <tr>\n",
       "      <th>8</th>\n",
       "      <td>193.177733</td>\n",
       "      <td>24.567397</td>\n",
       "    </tr>\n",
       "    <tr>\n",
       "      <th>9</th>\n",
       "      <td>220.045962</td>\n",
       "      <td>23.432684</td>\n",
       "    </tr>\n",
       "    <tr>\n",
       "      <th>10</th>\n",
       "      <td>222.624393</td>\n",
       "      <td>23.306025</td>\n",
       "    </tr>\n",
       "  </tbody>\n",
       "</table>\n",
       "</div>"
      ],
      "text/plain": [
       "        vol_proc   spd_proc\n",
       "hour                       \n",
       "7      73.417534  28.143963\n",
       "8     193.177733  24.567397\n",
       "9     220.045962  23.432684\n",
       "10    222.624393  23.306025"
      ]
     },
     "execution_count": 42,
     "metadata": {},
     "output_type": "execute_result"
    }
   ],
   "source": [
    "way_2_results = way_2.groupby(['hour'])[['vol_proc', 'spd_proc']].mean()\n",
    "way_2_results"
   ]
  },
  {
   "cell_type": "code",
   "execution_count": 43,
   "metadata": {},
   "outputs": [
    {
     "data": {
      "text/plain": [
       "<BarContainer object of 4 artists>"
      ]
     },
     "execution_count": 43,
     "metadata": {},
     "output_type": "execute_result"
    },
    {
     "data": {
      "image/png": "[encoded data removed]",
      "text/plain": [
       "<Figure size 720x216 with 2 Axes>"
      ]
     },
     "metadata": {
      "needs_background": "light"
     },
     "output_type": "display_data"
    }
   ],
   "source": [
    "fig, ax = plt.subplots(1, 2, figsize=(10,3))\n",
    "ax[0].bar(way_1_results.index, way_1_results['vol_proc'])\n",
    "ax[1].bar(way_1_results.index, way_1_results['spd_proc'])"
   ]
  },
  {
   "cell_type": "code",
   "execution_count": 44,
   "metadata": {},
   "outputs": [
    {
     "data": {
      "text/plain": [
       "<BarContainer object of 4 artists>"
      ]
     },
     "execution_count": 44,
     "metadata": {},
     "output_type": "execute_result"
    },
    {
     "data": {
      "image/png": "[encoded data removed]",
      "text/plain": [
       "<Figure size 720x216 with 2 Axes>"
      ]
     },
     "metadata": {
      "needs_background": "light"
     },
     "output_type": "display_data"
    }
   ],
   "source": [
    "fig, ax = plt.subplots(1, 2, figsize=(10,3))\n",
    "ax[0].bar(way_2_results.index, way_2_results['vol_proc'])\n",
    "ax[1].bar(way_2_results.index, way_2_results['spd_proc'])"
   ]
  },
  {
   "cell_type": "code",
   "execution_count": null,
   "metadata": {},
   "outputs": [],
   "source": []
  }
 ],
 "metadata": {
  "kernelspec": {
   "display_name": "Python 3",
   "language": "python",
   "name": "python3"
  },
  "language_info": {
   "codemirror_mode": {
    "name": "ipython",
    "version": 3
   },
   "file_extension": ".py",
   "mimetype": "text/x-python",
   "name": "python",
   "nbconvert_exporter": "python",
   "pygments_lexer": "ipython3",
   "version": "3.7.3"
  }
 },
 "nbformat": 4,
 "nbformat_minor": 2
}
